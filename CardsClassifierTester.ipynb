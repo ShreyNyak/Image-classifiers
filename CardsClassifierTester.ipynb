{
 "cells": [
  {
   "cell_type": "code",
   "execution_count": 1,
   "id": "9670850c-838c-4cf2-9416-757aa307ec34",
   "metadata": {},
   "outputs": [],
   "source": [
    "import torch\n",
    "import torchvision\n",
    "import torchvision.transforms as transforms\n",
    "transform = transforms.Compose(\n",
    "    [transforms.ToTensor(),\n",
    "     transforms.Normalize((0.5, 0.5, 0.5), (0.5, 0.5, 0.5))])"
   ]
  },
  {
   "cell_type": "code",
   "execution_count": 2,
   "id": "f0bce136-b1a8-4f60-93d2-3bfe410a7074",
   "metadata": {},
   "outputs": [],
   "source": [
    "import os\n",
    "from PIL import Image\n",
    "import numpy as np\n",
    "\n",
    "categories = os.listdir('./data/cards/train')\n",
    "\n",
    "names_to_labels = dict()\n",
    "\n",
    "training_images = []\n",
    "training_labels = []\n",
    "\n",
    "for i in range(len(categories)):\n",
    "    names_to_labels[categories[i]] = i\n",
    "\n",
    "for c in categories:\n",
    "    files = os.listdir('./data/cards/train/' + c)\n",
    "    for f in files:\n",
    "        image = Image.open('./data/cards/train/' + c + '/' + f)\n",
    "        image = image.resize((32,32))\n",
    "        image = np.array(image) \n",
    "\n",
    "        training_images.append(transform(image))\n",
    "        training_labels.append(names_to_labels[c])"
   ]
  },
  {
   "cell_type": "code",
   "execution_count": 4,
   "id": "072ec4b9-4fa9-4644-82eb-064925aacd0d",
   "metadata": {},
   "outputs": [],
   "source": [
    "categories = os.listdir('./data/cards/test')\n",
    "\n",
    "names_to_labels = dict()\n",
    "\n",
    "test_images = []\n",
    "test_labels = []\n",
    "\n",
    "for i in range(len(categories)):\n",
    "    names_to_labels[categories[i]] = i\n",
    "\n",
    "for c in categories:\n",
    "    files = os.listdir('./data/cards/test/' + c)\n",
    "    for f in files:\n",
    "        image = Image.open('./data/cards/test/' + c + '/' + f)\n",
    "        image = image.resize((32,32))\n",
    "        image = np.array(image) \n",
    "\n",
    "        test_images.append(transform(image))\n",
    "        test_labels.append(names_to_labels[c])\n",
    "\n",
    "test_images = torch.stack(test_images)\n",
    "test_labels = torch.tensor(test_labels)"
   ]
  },
  {
   "cell_type": "code",
   "execution_count": 5,
   "id": "00153135-5d03-4a74-a093-30adcd39d5e7",
   "metadata": {},
   "outputs": [
    {
     "name": "stdout",
     "output_type": "stream",
     "text": [
      "7624\n",
      "7624\n"
     ]
    }
   ],
   "source": [
    "print(len(training_images))\n",
    "print(len(training_labels))"
   ]
  },
  {
   "cell_type": "code",
   "execution_count": 6,
   "id": "c3f6a7f4-1465-445a-b6b8-ecab5af2f32e",
   "metadata": {},
   "outputs": [],
   "source": [
    "training_images = torch.stack(training_images)"
   ]
  },
  {
   "cell_type": "code",
   "execution_count": 7,
   "id": "ec2179a0-a611-4bd7-876b-73918f9dbbd5",
   "metadata": {},
   "outputs": [],
   "source": [
    "training_labels = torch.tensor(training_labels)"
   ]
  },
  {
   "cell_type": "code",
   "execution_count": 8,
   "id": "608ac915-d2bf-4a8c-aca8-bd683a0317e6",
   "metadata": {},
   "outputs": [
    {
     "data": {
      "text/plain": [
       "torch.Size([265, 3, 32, 32])"
      ]
     },
     "execution_count": 8,
     "metadata": {},
     "output_type": "execute_result"
    }
   ],
   "source": [
    "test_images.shape "
   ]
  },
  {
   "cell_type": "code",
   "execution_count": 9,
   "id": "20d65c8e-e683-48d6-b29d-7495d78c0644",
   "metadata": {},
   "outputs": [
    {
     "data": {
      "image/png": "[encoded data removed]",
      "text/plain": [
       "<Figure size 640x480 with 1 Axes>"
      ]
     },
     "metadata": {},
     "output_type": "display_data"
    }
   ],
   "source": [
    "import matplotlib.pyplot as plt\n",
    "import numpy as np\n",
    "\n",
    "def imshow(img):\n",
    "    img = img / 2 + 0.5     # unnormalize\n",
    "    npimg = img.numpy()\n",
    "    plt.imshow(np.transpose(npimg, (1, 2, 0)))\n",
    "    plt.show()\n",
    "imshow(training_images[7623])"
   ]
  },
  {
   "cell_type": "code",
   "execution_count": null,
   "id": "b6ee26f5-ea1b-49b9-997c-97847a911eec",
   "metadata": {},
   "outputs": [],
   "source": [
    "from torch import nn, optim\n",
    "from torch.functional import F\n",
    "\n",
    "# Define the CNN model\n",
    "class Net(nn.Module):\n",
    "    def __init__(self):\n",
    "        super(Net, self).__init__()\n",
    "        self.conv1 = nn.Conv2d(3, 6, 5)\n",
    "        self.pool = nn.MaxPool2d(2, 2)\n",
    "        self.conv2 = nn.Conv2d(6, 16, 5)\n",
    "        self.fc1 = nn.Linear(16 * 5 * 5, 120)\n",
    "        self.fc2 = nn.Linear(120, 84)\n",
    "        self.fc3 = nn.Linear(84, len(categories))  # Adjust the output size based on the number of categories\n",
    "\n",
    "    def forward(self, x):\n",
    "        x = self.pool(F.relu(self.conv1(x)))\n",
    "        x = self.pool(F.relu(self.conv2(x)))\n",
    "        x = torch.flatten(x, 1)  # flatten all dimensions except batch\n",
    "        x = F.relu(self.fc1(x))\n",
    "        x = F.relu(self.fc2(x))\n",
    "        x = self.fc3(x)\n",
    "        return x\n",
    "\n",
    "# Initialize the model\n",
    "net = Net()"
   ]
  },
  {
   "cell_type": "code",
   "execution_count": null,
   "id": "7050b867-f9de-4fab-b8a6-08905acb1d19",
   "metadata": {},
   "outputs": [],
   "source": [
    "# Define the loss function and optimizer\n",
    "criterion = nn.CrossEntropyLoss()\n",
    "optimizer = optim.SGD(net.parameters(), lr=0.001, momentum=0.9)\n"
   ]
  },
  {
   "cell_type": "code",
   "execution_count": null,
   "id": "98b682e5-f1fa-4b64-865e-896cf4c1a3b4",
   "metadata": {},
   "outputs": [],
   "source": [
    "def train_iteration(num, batch):\n",
    "    num_ex = num\n",
    "    batch_size = batch\n",
    "    for ex in range(num_ex):\n",
    "        running_loss = 0.0\n",
    "        for i in range(0, len(training_images), batch_size):\n",
    "            # Get the inputs\n",
    "            inputs = training_images[i:i+batch_size]\n",
    "            labels = training_labels[i:i+batch_size]\n",
    "            optimizer.zero_grad()  # Zero the parameter gradients\n",
    "            outputs = net(inputs)  # Forward pass\n",
    "            loss = criterion(outputs, labels)  # Compute the loss\n",
    "            loss.backward()  # Backward pass\n",
    "            optimizer.step()  # Update weights\n",
    "        \n",
    "        running_loss += loss.item()\n",
    "\n",
    "def test_training_set():\n",
    "    correct = 0\n",
    "    total = 0\n",
    "    with torch.no_grad():\n",
    "        for i in range(len(training_images)):\n",
    "            outputs = net(training_images[i].unsqueeze(0))\n",
    "            _, predicted = torch.max(outputs.data, 1)\n",
    "            total += 1\n",
    "            correct += (predicted == training_labels[i]).sum().item()\n",
    "    return (correct / total)\n",
    "\n",
    "def test_testing_set():\n",
    "    correct = 0\n",
    "    total = 0\n",
    "    with torch.no_grad():\n",
    "        for i in range(len(test_images)):\n",
    "            outputs = net(test_images[i].unsqueeze(0))\n",
    "            _, predicted = torch.max(outputs.data, 1)\n",
    "            total += 1\n",
    "            correct += (predicted == test_labels[i]).sum().item()\n",
    "    return (correct / total) "
   ]
  },
  {
   "cell_type": "code",
   "execution_count": null,
   "id": "8e4f91c8-f3d4-49d9-97fa-bb1a5ac13908",
   "metadata": {},
   "outputs": [],
   "source": [
    "epoch = []\n",
    "trainacc = []\n",
    "testacc = []\n",
    "ep = 10\n",
    "for i in range(40):\n",
    "    train_iteration(5, 20)\n",
    "    tracc = test_training_set()\n",
    "    teacc = test_testing_set()\n",
    "    print(f\"Training set accuracy: {tracc}, Testing set accuracy: {teacc}\")\n",
    "    epoch.append((i * 1) * ep)\n",
    "    trainacc.append(tracc)\n",
    "    testacc.append(teacc)"
   ]
  },
  {
   "cell_type": "code",
   "execution_count": null,
   "id": "68fa25d3-6d0c-4731-a3c6-4017f197394b",
   "metadata": {},
   "outputs": [],
   "source": [
    "import pandas as pd\n",
    "df = pd.DataFrame({\"Epoch\" : epoch, \"Training Accuracy\" : trainacc, \"Testing Accuracy\" : testacc})\n",
    "df.to_excel(\"training_values_by_epoch.xlsx\", index = False)\n",
    "display(df)"
   ]
  },
  {
   "cell_type": "code",
   "execution_count": null,
   "id": "daff1f68-b4b6-4cee-847e-baa1ef460678",
   "metadata": {},
   "outputs": [],
   "source": [
    "import matplotlib.pyplot as plt\n",
    "\n",
    "plt.figure(figsize=(10, 6))\n",
    "\n",
    "#plot value1\n",
    "\n",
    "plt.plot(df['Epoch'], df['Training Accuracy'], label= 'Training Accuracy', color = 'blue')\n",
    "\n",
    "#plot value2\n",
    "\n",
    "plt.plot(df['Epoch'], df['Testing Accuracy'], label= 'Testing Accuracy', color = 'red')\n",
    "\n",
    "# add labels and titles\n",
    "\n",
    "plt.xlabel('Epoch')\n",
    "plt.ylabel('Accuracy')\n",
    "plt.title('Cards classfier Testing and Training Accuracy v.s, Training Epochs')\n",
    "\n",
    "#add a legend\n",
    "plt.legend()\n",
    "\n",
    "#display the plot\n",
    "plt.show()"
   ]
  },
  {
   "cell_type": "code",
   "execution_count": null,
   "id": "fe4035e3-e270-484b-a6bb-7a1c286c188c",
   "metadata": {},
   "outputs": [],
   "source": [
    "!pip install matplotlib"
   ]
  },
  {
   "cell_type": "code",
   "execution_count": null,
   "id": "e192ac0a-4ab0-45b8-baed-7341ee3754fc",
   "metadata": {},
   "outputs": [],
   "source": [
    "# Save the trained model\n",
    "torch.save(net.state_dict(), 'cardsclass_cnn_82024_1.pth')\n",
    "\n",
    "# Testing (on the same dataset for simplicity)\n",
    "correct = 0\n",
    "total = 0\n",
    "with torch.no_grad():\n",
    "    for i in range(len(training_images)):\n",
    "        outputs = net(training_images[i].unsqueeze(0))\n",
    "        _, predicted = torch.max(outputs.data, 1)\n",
    "        total += 1\n",
    "        correct += (predicted == training_labels[i]).sum().item()\n",
    "\n",
    "print(f'Accuracy of the network on the training images: {100 * correct / total:.2f}%')"
   ]
  },
  {
   "cell_type": "code",
   "execution_count": null,
   "id": "43f46bb4-b025-427e-be41-6bb31176157b",
   "metadata": {},
   "outputs": [],
   "source": [
    "# Testing (on the same dataset for simplicity)\n",
    "correct = 0\n",
    "total = 0\n",
    "with torch.no_grad():\n",
    "    for i in range(len(test_images)):\n",
    "        outputs = net(test_images[i].unsqueeze(0))\n",
    "        _, predicted = torch.max(outputs.data, 1)\n",
    "        total += 1\n",
    "        correct += (predicted == test_labels[i]).sum().item()\n",
    "\n",
    "print(f'Accuracy of the network on the test images: {100 * correct / total:.2f}%')"
   ]
  },
  {
   "cell_type": "code",
   "execution_count": null,
   "id": "6caeeb28-6691-4907-af1f-332ee4a10ee8",
   "metadata": {},
   "outputs": [],
   "source": []
  }
 ],
 "metadata": {
  "kernelspec": {
   "display_name": "Python 3 (ipykernel)",
   "language": "python",
   "name": "python3"
  },
  "language_info": {
   "codemirror_mode": {
    "name": "ipython",
    "version": 3
   },
   "file_extension": ".py",
   "mimetype": "text/x-python",
   "name": "python",
   "nbconvert_exporter": "python",
   "pygments_lexer": "ipython3",
   "version": "3.12.4"
  }
 },
 "nbformat": 4,
 "nbformat_minor": 5
}
